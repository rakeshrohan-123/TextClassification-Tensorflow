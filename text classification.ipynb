{
 "cells": [
  {
   "cell_type": "code",
   "execution_count": 13,
   "metadata": {},
   "outputs": [],
   "source": [
    "import json\n",
    "import tensorflow as tf\n",
    "\n",
    "from tensorflow.keras.preprocessing.text import Tokenizer\n",
    "from tensorflow.keras.preprocessing.sequence import pad_sequences"
   ]
  },
  {
   "cell_type": "code",
   "execution_count": 14,
   "metadata": {},
   "outputs": [],
   "source": [
    "vocab_size = 10000\n",
    "embedding_dim = 16\n",
    "max_length = 100\n",
    "trunc_type='post'\n",
    "padding_type='post'\n",
    "oov_tok = \"<OOV>\"\n",
    "training_size = 20000"
   ]
  },
  {
   "cell_type": "code",
   "execution_count": 16,
   "metadata": {},
   "outputs": [],
   "source": [
    "with open(\"Sarcasm_Headlines_Dataset.json\", 'r') as f:\n",
    "    datastore = [json.loads(line) for line in open('Sarcasm_Headlines_Dataset.json', 'r')]\n",
    "\n",
    "sentences = []\n",
    "labels = []\n",
    "urls=[]\n",
    "\n",
    "for item in datastore:\n",
    "    sentences.append(item['headline'])\n",
    "    labels.append(item['is_sarcastic'])\n",
    "    urls.append(item['article_link'])"
   ]
  },
  {
   "cell_type": "code",
   "execution_count": 17,
   "metadata": {},
   "outputs": [],
   "source": [
    "training_sentences = sentences[0:training_size]\n",
    "testing_sentences = sentences[training_size:]\n",
    "training_labels = labels[0:training_size]\n",
    "testing_labels = labels[training_size:]"
   ]
  },
  {
   "cell_type": "code",
   "execution_count": 18,
   "metadata": {},
   "outputs": [],
   "source": [
    "tokenizer = Tokenizer(num_words=vocab_size, oov_token=oov_tok)\n",
    "tokenizer.fit_on_texts(training_sentences)\n",
    "\n",
    "word_index = tokenizer.word_index\n",
    "\n",
    "training_sequences = tokenizer.texts_to_sequences(training_sentences)\n",
    "training_padded = pad_sequences(training_sequences, maxlen=max_length, padding=padding_type, truncating=trunc_type)\n",
    "\n",
    "testing_sequences = tokenizer.texts_to_sequences(testing_sentences)\n",
    "testing_padded = pad_sequences(testing_sequences, maxlen=max_length, padding=padding_type, truncating=trunc_type)"
   ]
  },
  {
   "cell_type": "code",
   "execution_count": 19,
   "metadata": {},
   "outputs": [],
   "source": [
    "import numpy as np\n",
    "training_padded = np.array(training_padded)\n",
    "training_labels = np.array(training_labels)\n",
    "testing_padded = np.array(testing_padded)\n",
    "testing_labels = np.array(testing_labels)"
   ]
  },
  {
   "cell_type": "code",
   "execution_count": 20,
   "metadata": {},
   "outputs": [],
   "source": [
    "model = tf.keras.Sequential([\n",
    "    tf.keras.layers.Embedding(vocab_size, embedding_dim, input_length=max_length),\n",
    "    tf.keras.layers.GlobalAveragePooling1D(),\n",
    "    tf.keras.layers.Dense(24, activation='relu'),\n",
    "    tf.keras.layers.Dense(1, activation='sigmoid')\n",
    "])\n",
    "model.compile(loss='binary_crossentropy',optimizer='adam',metrics=['accuracy'])"
   ]
  },
  {
   "cell_type": "code",
   "execution_count": 21,
   "metadata": {},
   "outputs": [
    {
     "name": "stdout",
     "output_type": "stream",
     "text": [
      "Model: \"sequential_1\"\n",
      "_________________________________________________________________\n",
      "Layer (type)                 Output Shape              Param #   \n",
      "=================================================================\n",
      "embedding_1 (Embedding)      (None, 100, 16)           160000    \n",
      "_________________________________________________________________\n",
      "global_average_pooling1d_1 ( (None, 16)                0         \n",
      "_________________________________________________________________\n",
      "dense_2 (Dense)              (None, 24)                408       \n",
      "_________________________________________________________________\n",
      "dense_3 (Dense)              (None, 1)                 25        \n",
      "=================================================================\n",
      "Total params: 160,433\n",
      "Trainable params: 160,433\n",
      "Non-trainable params: 0\n",
      "_________________________________________________________________\n"
     ]
    }
   ],
   "source": [
    "model.summary()"
   ]
  },
  {
   "cell_type": "code",
   "execution_count": 22,
   "metadata": {},
   "outputs": [
    {
     "name": "stdout",
     "output_type": "stream",
     "text": [
      "Epoch 1/30\n",
      "625/625 - 2s - loss: 0.6763 - accuracy: 0.5621 - val_loss: 0.6336 - val_accuracy: 0.7296\n",
      "Epoch 2/30\n",
      "625/625 - 1s - loss: 0.4703 - accuracy: 0.8053 - val_loss: 0.3931 - val_accuracy: 0.8331\n",
      "Epoch 3/30\n",
      "625/625 - 2s - loss: 0.3210 - accuracy: 0.8723 - val_loss: 0.3571 - val_accuracy: 0.8486\n",
      "Epoch 4/30\n",
      "625/625 - 1s - loss: 0.2673 - accuracy: 0.8932 - val_loss: 0.3571 - val_accuracy: 0.8465\n",
      "Epoch 5/30\n",
      "625/625 - 2s - loss: 0.2324 - accuracy: 0.9083 - val_loss: 0.3486 - val_accuracy: 0.8572\n",
      "Epoch 6/30\n",
      "625/625 - 2s - loss: 0.2040 - accuracy: 0.9201 - val_loss: 0.3515 - val_accuracy: 0.8520\n",
      "Epoch 7/30\n",
      "625/625 - 3s - loss: 0.1811 - accuracy: 0.9309 - val_loss: 0.3606 - val_accuracy: 0.8538\n",
      "Epoch 8/30\n",
      "625/625 - 2s - loss: 0.1610 - accuracy: 0.9402 - val_loss: 0.3733 - val_accuracy: 0.8529\n",
      "Epoch 9/30\n",
      "625/625 - 2s - loss: 0.1471 - accuracy: 0.9465 - val_loss: 0.3888 - val_accuracy: 0.8532\n",
      "Epoch 10/30\n",
      "625/625 - 2s - loss: 0.1326 - accuracy: 0.9517 - val_loss: 0.4149 - val_accuracy: 0.8484\n",
      "Epoch 11/30\n",
      "625/625 - 2s - loss: 0.1208 - accuracy: 0.9577 - val_loss: 0.4331 - val_accuracy: 0.8498\n",
      "Epoch 12/30\n",
      "625/625 - 2s - loss: 0.1095 - accuracy: 0.9618 - val_loss: 0.4493 - val_accuracy: 0.8490\n",
      "Epoch 13/30\n",
      "625/625 - 2s - loss: 0.1014 - accuracy: 0.9652 - val_loss: 0.4741 - val_accuracy: 0.8441\n",
      "Epoch 14/30\n",
      "625/625 - 2s - loss: 0.0925 - accuracy: 0.9697 - val_loss: 0.4968 - val_accuracy: 0.8432\n",
      "Epoch 15/30\n",
      "625/625 - 1s - loss: 0.0843 - accuracy: 0.9715 - val_loss: 0.5255 - val_accuracy: 0.8419\n",
      "Epoch 16/30\n",
      "625/625 - 2s - loss: 0.0774 - accuracy: 0.9750 - val_loss: 0.5506 - val_accuracy: 0.8372\n",
      "Epoch 17/30\n",
      "625/625 - 2s - loss: 0.0714 - accuracy: 0.9764 - val_loss: 0.5965 - val_accuracy: 0.8347\n",
      "Epoch 18/30\n",
      "625/625 - 2s - loss: 0.0649 - accuracy: 0.9795 - val_loss: 0.6279 - val_accuracy: 0.8320\n",
      "Epoch 19/30\n",
      "625/625 - 2s - loss: 0.0585 - accuracy: 0.9824 - val_loss: 0.6532 - val_accuracy: 0.8264\n",
      "Epoch 20/30\n",
      "625/625 - 2s - loss: 0.0553 - accuracy: 0.9829 - val_loss: 0.6671 - val_accuracy: 0.8314\n",
      "Epoch 21/30\n",
      "625/625 - 2s - loss: 0.0497 - accuracy: 0.9849 - val_loss: 0.7041 - val_accuracy: 0.8280\n",
      "Epoch 22/30\n",
      "625/625 - 2s - loss: 0.0460 - accuracy: 0.9868 - val_loss: 0.7393 - val_accuracy: 0.8265\n",
      "Epoch 23/30\n",
      "625/625 - 2s - loss: 0.0443 - accuracy: 0.9869 - val_loss: 0.7660 - val_accuracy: 0.8235\n",
      "Epoch 24/30\n",
      "625/625 - 2s - loss: 0.0409 - accuracy: 0.9882 - val_loss: 0.8224 - val_accuracy: 0.8201\n",
      "Epoch 25/30\n",
      "625/625 - 2s - loss: 0.0366 - accuracy: 0.9895 - val_loss: 0.8330 - val_accuracy: 0.8182\n",
      "Epoch 26/30\n",
      "625/625 - 2s - loss: 0.0344 - accuracy: 0.9912 - val_loss: 0.8801 - val_accuracy: 0.8198\n",
      "Epoch 27/30\n",
      "625/625 - 2s - loss: 0.0315 - accuracy: 0.9920 - val_loss: 0.9099 - val_accuracy: 0.8199\n",
      "Epoch 28/30\n",
      "625/625 - 2s - loss: 0.0306 - accuracy: 0.9911 - val_loss: 0.9503 - val_accuracy: 0.8143\n",
      "Epoch 29/30\n",
      "625/625 - 2s - loss: 0.0271 - accuracy: 0.9928 - val_loss: 0.9860 - val_accuracy: 0.8143\n",
      "Epoch 30/30\n",
      "625/625 - 2s - loss: 0.0254 - accuracy: 0.9930 - val_loss: 1.0341 - val_accuracy: 0.8147\n"
     ]
    }
   ],
   "source": [
    "num_epochs = 30\n",
    "history = model.fit(training_padded, training_labels, epochs=num_epochs, validation_data=(testing_padded, testing_labels), verbose=2)"
   ]
  },
  {
   "cell_type": "code",
   "execution_count": 23,
   "metadata": {},
   "outputs": [
    {
     "name": "stdout",
     "output_type": "stream",
     "text": [
      "[[9.8807442e-01]\n",
      " [3.6734343e-04]]\n"
     ]
    }
   ],
   "source": [
    "sentence = [\"granny starting to fear spiders in the garden might be real\", \"game of thrones season finale showing this sunday night\"]\n",
    "sequences = tokenizer.texts_to_sequences(sentence)\n",
    "padded = pad_sequences(sequences, maxlen=max_length, padding=padding_type, truncating=trunc_type)\n",
    "print(model.predict(padded))"
   ]
  },
  {
   "cell_type": "code",
   "execution_count": null,
   "metadata": {},
   "outputs": [],
   "source": []
  }
 ],
 "metadata": {
  "kernelspec": {
   "display_name": "Python 3",
   "language": "python",
   "name": "python3"
  },
  "language_info": {
   "codemirror_mode": {
    "name": "ipython",
    "version": 3
   },
   "file_extension": ".py",
   "mimetype": "text/x-python",
   "name": "python",
   "nbconvert_exporter": "python",
   "pygments_lexer": "ipython3",
   "version": "3.7.7"
  }
 },
 "nbformat": 4,
 "nbformat_minor": 4
}
